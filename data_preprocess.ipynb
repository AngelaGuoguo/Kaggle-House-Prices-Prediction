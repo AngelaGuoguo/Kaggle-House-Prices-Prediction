{
 "cells": [
  {
   "cell_type": "markdown",
   "metadata": {
    "_cell_guid": "0b9ffbb2-8d33-eb0c-5a42-0733bdc3b74b",
    "_uuid": "a2910592374199b88b04c142b7a729a51b74d13f"
   },
   "source": [
    "**Introduction**\n",
    "\n",
    "This kernel is an attempt to use every trick in the books to unleash the full power of Linear Regression, including a lot of preprocessing and a look at several Regularization algorithms.\n",
    "\n",
    "At the time of writing, it achieves a score of about 0.121 on the public LB, just using regression, no RF, no xgboost, no ensembling etc. All comments/corrections are more than welcome."
   ]
  },
  {
   "cell_type": "code",
   "execution_count": 18,
   "metadata": {
    "_cell_guid": "2ba3154a-c2aa-3158-1984-63ad2c0c786a",
    "_uuid": "bbb1b0bb9ba431d85ef6275b1239395fcb77b860",
    "collapsed": true
   },
   "outputs": [],
   "source": [
    "# Imports\n",
    "import pandas as pd\n",
    "import numpy as np\n",
    "from sklearn.model_selection import cross_val_score, train_test_split\n",
    "from sklearn.preprocessing import StandardScaler, RobustScaler, QuantileTransformer\n",
    "from sklearn.linear_model import LinearRegression, RidgeCV, LassoCV, ElasticNetCV\n",
    "from sklearn.metrics import mean_squared_error, make_scorer\n",
    "from scipy.stats import skew\n",
    "from IPython.display import display\n",
    "import matplotlib.pyplot as plt\n",
    "import seaborn as sns\n",
    "\n",
    "# Definitions\n",
    "pd.set_option('display.float_format', lambda x: '%.3f' % x)\n",
    "%matplotlib inline\n",
    "#njobs = 4"
   ]
  },
  {
   "cell_type": "code",
   "execution_count": 19,
   "metadata": {
    "_cell_guid": "21fa35be-878b-b4f2-ef6e-68dc070b8bfa",
    "_uuid": "3fb709973f9e719d8296c7866f40e2147b03fae5"
   },
   "outputs": [
    {
     "name": "stdout",
     "output_type": "stream",
     "text": [
      "train : (1460, 81)\n",
      "test: (1459, 81)\n"
     ]
    }
   ],
   "source": [
    "# Get data\n",
    "train = pd.read_csv(\"house prediction data/train.csv\")\n",
    "test = pd.read_csv(\"house prediction data/test.csv\")\n",
    "test['SalePrice'] = np.zeros((test.shape[0],), dtype=np.float)\n",
    "print(\"train : \" + str(train.shape))\n",
    "print(\"test: \" + str(test.shape))"
   ]
  },
  {
   "cell_type": "code",
   "execution_count": 20,
   "metadata": {
    "_cell_guid": "7133b089-cd03-a56e-e8a4-8928b28a3c99",
    "_uuid": "fd402185f675a84bf3c2659a3452ba28a3cd2ca2"
   },
   "outputs": [
    {
     "name": "stdout",
     "output_type": "stream",
     "text": [
      "There are 0 duplicate IDs for 1460 total entries\n"
     ]
    }
   ],
   "source": [
    "# Check for duplicates\n",
    "idsUnique = len(set(train.Id))\n",
    "idsTotal = train.shape[0]\n",
    "idsDupli = idsTotal - idsUnique\n",
    "print(\"There are \" + str(idsDupli) + \" duplicate IDs for \" + str(idsTotal) + \" total entries\")\n",
    "\n",
    "# Drop Id column\n",
    "train.drop(\"Id\", axis = 1, inplace = True)\n",
    "test.drop(\"Id\", axis = 1, inplace = True)"
   ]
  },
  {
   "cell_type": "markdown",
   "metadata": {
    "_cell_guid": "be11c1c7-acfe-cb9a-bc81-95d461b884c5",
    "_uuid": "809da46b67081b12a5134bc218d0f27cc68f78c8"
   },
   "source": [
    "**Preprocessing**"
   ]
  },
  {
   "cell_type": "code",
   "execution_count": 21,
   "metadata": {
    "_cell_guid": "e9e99565-3296-cb48-3cc7-722b94e3fdac",
    "_uuid": "35c6a4d1b243d703ae33d6b988011463cafa0164"
   },
   "outputs": [
    {
     "data": {
      "image/png": "[encoded data removed]",
      "text/plain": [
       "<matplotlib.figure.Figure at 0xc537ef0>"
      ]
     },
     "metadata": {},
     "output_type": "display_data"
    }
   ],
   "source": [
    "# Looking for outliers, as indicated in https://ww2.amstat.org/publications/jse/v19n3/decock.pdf\n",
    "plt.scatter(train.GrLivArea, train.SalePrice, c = \"blue\", marker = \"s\")\n",
    "plt.title(\"Looking for outliers\")\n",
    "plt.xlabel(\"GrLivArea\")\n",
    "plt.ylabel(\"SalePrice\")\n",
    "plt.show()\n",
    "\n",
    "train = train[train.GrLivArea < 4000]"
   ]
  },
  {
   "cell_type": "markdown",
   "metadata": {
    "_cell_guid": "2ff6d8cc-1f4b-776c-43d7-e9061eb5bed3",
    "_uuid": "24786678e32e37983b0a48fc554e4b280afa5453"
   },
   "source": [
    "There seems to be 2 extreme outliers on the bottom right, really large houses that sold for really cheap. More generally, the author of the dataset recommends removing 'any houses with more than 4000 square feet' from the dataset.  \n",
    "Reference : https://ww2.amstat.org/publications/jse/v19n3/decock.pdf"
   ]
  },
  {
   "cell_type": "code",
   "execution_count": 22,
   "metadata": {
    "_cell_guid": "523ad216-4972-bf16-9328-722c461d1e98",
    "_uuid": "e9eb47e90790150d898c6931198827d533b9396d",
    "collapsed": true
   },
   "outputs": [],
   "source": [
    "# Log transform the target for official scoring\n",
    "train.SalePrice = np.log1p(train.SalePrice)\n",
    "y = train.SalePrice"
   ]
  },
  {
   "cell_type": "code",
   "execution_count": 23,
   "metadata": {},
   "outputs": [
    {
     "name": "stdout",
     "output_type": "stream",
     "text": [
      "train : (1456, 80)\n",
      "test: (1459, 80)\n",
      "concate df:  (2915, 80)\n"
     ]
    }
   ],
   "source": [
    "all_df = pd.concat([train, test])\n",
    "print(\"train : \" + str(train.shape))\n",
    "print(\"test: \" + str(test.shape))\n",
    "print('concate df: ', all_df.shape)"
   ]
  },
  {
   "cell_type": "markdown",
   "metadata": {
    "_cell_guid": "9b1a5238-976a-e7ab-00d1-0e92f156e407",
    "_uuid": "05f6d1bfc1f33bf8693cf7debc366fb46a8e1ae2"
   },
   "source": [
    "Taking logs means that errors in predicting expensive houses and cheap houses will affect the result equally."
   ]
  },
  {
   "cell_type": "code",
   "execution_count": 24,
   "metadata": {
    "_cell_guid": "1fecd55e-0392-4d08-c4f7-da4326f42538",
    "_uuid": "9e6c8d13544abf7ea23d186dd7aa09d38c17b07c",
    "collapsed": true
   },
   "outputs": [],
   "source": [
    "# Handle missing values for features where median/mean or most common value doesn't make sense\n",
    "\n",
    "# Alley : data description says NA means \"no alley access\"\n",
    "all_df.loc[:, \"Alley\"] = all_df.loc[:, \"Alley\"].fillna(\"None\")\n",
    "# BedroomAbvGr : NA most likely means 0\n",
    "all_df.loc[:, \"BedroomAbvGr\"] = all_df.loc[:, \"BedroomAbvGr\"].fillna(0)\n",
    "# BsmtQual etc : data description says NA for basement features is \"no basement\"\n",
    "all_df.loc[:, \"BsmtQual\"] = all_df.loc[:, \"BsmtQual\"].fillna(\"No\")\n",
    "all_df.loc[:, \"BsmtCond\"] = all_df.loc[:, \"BsmtCond\"].fillna(\"No\")\n",
    "all_df.loc[:, \"BsmtExposure\"] = all_df.loc[:, \"BsmtExposure\"].fillna(\"No\")\n",
    "all_df.loc[:, \"BsmtFinType1\"] = all_df.loc[:, \"BsmtFinType1\"].fillna(\"No\")\n",
    "all_df.loc[:, \"BsmtFinType2\"] = all_df.loc[:, \"BsmtFinType2\"].fillna(\"No\")\n",
    "all_df.loc[:, \"BsmtFullBath\"] = all_df.loc[:, \"BsmtFullBath\"].fillna(0)\n",
    "all_df.loc[:, \"BsmtHalfBath\"] = all_df.loc[:, \"BsmtHalfBath\"].fillna(0)\n",
    "all_df.loc[:, \"BsmtUnfSF\"] = all_df.loc[:, \"BsmtUnfSF\"].fillna(0)\n",
    "# CentralAir : NA most likely means No\n",
    "all_df.loc[:, \"CentralAir\"] = all_df.loc[:, \"CentralAir\"].fillna(\"N\")\n",
    "# Condition : NA most likely means Normal\n",
    "all_df.loc[:, \"Condition1\"] = all_df.loc[:, \"Condition1\"].fillna(\"Norm\")\n",
    "all_df.loc[:, \"Condition2\"] = all_df.loc[:, \"Condition2\"].fillna(\"Norm\")\n",
    "# EnclosedPorch : NA most likely means no enclosed porch\n",
    "all_df.loc[:, \"EnclosedPorch\"] = all_df.loc[:, \"EnclosedPorch\"].fillna(0)\n",
    "# External stuff : NA most likely means average\n",
    "all_df.loc[:, \"ExterCond\"] = all_df.loc[:, \"ExterCond\"].fillna(\"TA\")\n",
    "all_df.loc[:, \"ExterQual\"] = all_df.loc[:, \"ExterQual\"].fillna(\"TA\")\n",
    "# Fence : data description says NA means \"no fence\"\n",
    "all_df.loc[:, \"Fence\"] = all_df.loc[:, \"Fence\"].fillna(\"No\")\n",
    "# FireplaceQu : data description says NA means \"no fireplace\"\n",
    "all_df.loc[:, \"FireplaceQu\"] = all_df.loc[:, \"FireplaceQu\"].fillna(\"No\")\n",
    "all_df.loc[:, \"Fireplaces\"] = all_df.loc[:, \"Fireplaces\"].fillna(0)\n",
    "# Functional : data description says NA means typical\n",
    "all_df.loc[:, \"Functional\"] = all_df.loc[:, \"Functional\"].fillna(\"Typ\")\n",
    "# GarageType etc : data description says NA for garage features is \"no garage\"\n",
    "all_df.loc[:, \"GarageType\"] = all_df.loc[:, \"GarageType\"].fillna(\"No\")\n",
    "all_df.loc[:, \"GarageFinish\"] = all_df.loc[:, \"GarageFinish\"].fillna(\"No\")\n",
    "all_df.loc[:, \"GarageQual\"] = all_df.loc[:, \"GarageQual\"].fillna(\"No\")\n",
    "all_df.loc[:, \"GarageCond\"] = all_df.loc[:, \"GarageCond\"].fillna(\"No\")\n",
    "all_df.loc[:, \"GarageArea\"] = all_df.loc[:, \"GarageArea\"].fillna(0)\n",
    "all_df.loc[:, \"GarageCars\"] = all_df.loc[:, \"GarageCars\"].fillna(0)\n",
    "# HalfBath : NA most likely means no half baths above grade\n",
    "all_df.loc[:, \"HalfBath\"] = all_df.loc[:, \"HalfBath\"].fillna(0)\n",
    "# HeatingQC : NA most likely means typical\n",
    "all_df.loc[:, \"HeatingQC\"] = all_df.loc[:, \"HeatingQC\"].fillna(\"TA\")\n",
    "# KitchenAbvGr : NA most likely means 0\n",
    "all_df.loc[:, \"KitchenAbvGr\"] = all_df.loc[:, \"KitchenAbvGr\"].fillna(0)\n",
    "# KitchenQual : NA most likely means typical\n",
    "all_df.loc[:, \"KitchenQual\"] = all_df.loc[:, \"KitchenQual\"].fillna(\"TA\")\n",
    "# LotFrontage : NA most likely means no lot frontage\n",
    "all_df.loc[:, \"LotFrontage\"] = all_df.loc[:, \"LotFrontage\"].fillna(0)\n",
    "# LotShape : NA most likely means regular\n",
    "all_df.loc[:, \"LotShape\"] = all_df.loc[:, \"LotShape\"].fillna(\"Reg\")\n",
    "# MasVnrType : NA most likely means no veneer\n",
    "all_df.loc[:, \"MasVnrType\"] = all_df.loc[:, \"MasVnrType\"].fillna(\"None\")\n",
    "all_df.loc[:, \"MasVnrArea\"] = all_df.loc[:, \"MasVnrArea\"].fillna(0)\n",
    "# MiscFeature : data description says NA means \"no misc feature\"\n",
    "all_df.loc[:, \"MiscFeature\"] = all_df.loc[:, \"MiscFeature\"].fillna(\"No\")\n",
    "all_df.loc[:, \"MiscVal\"] = all_df.loc[:, \"MiscVal\"].fillna(0)\n",
    "# OpenPorchSF : NA most likely means no open porch\n",
    "all_df.loc[:, \"OpenPorchSF\"] = all_df.loc[:, \"OpenPorchSF\"].fillna(0)\n",
    "# PavedDrive : NA most likely means not paved\n",
    "all_df.loc[:, \"PavedDrive\"] = all_df.loc[:, \"PavedDrive\"].fillna(\"N\")\n",
    "# PoolQC : data description says NA means \"no pool\"\n",
    "all_df.loc[:, \"PoolQC\"] = all_df.loc[:, \"PoolQC\"].fillna(\"No\")\n",
    "all_df.loc[:, \"PoolArea\"] = all_df.loc[:, \"PoolArea\"].fillna(0)\n",
    "# SaleCondition : NA most likely means normal sale\n",
    "all_df.loc[:, \"SaleCondition\"] = all_df.loc[:, \"SaleCondition\"].fillna(\"Normal\")\n",
    "# ScreenPorch : NA most likely means no screen porch\n",
    "all_df.loc[:, \"ScreenPorch\"] = all_df.loc[:, \"ScreenPorch\"].fillna(0)\n",
    "# TotRmsAbvGrd : NA most likely means 0\n",
    "all_df.loc[:, \"TotRmsAbvGrd\"] = all_df.loc[:, \"TotRmsAbvGrd\"].fillna(0)\n",
    "# Utilities : NA most likely means all public utilities\n",
    "all_df.loc[:, \"Utilities\"] = all_df.loc[:, \"Utilities\"].fillna(\"AllPub\")\n",
    "# WoodDeckSF : NA most likely means no wood deck\n",
    "all_df.loc[:, \"WoodDeckSF\"] = all_df.loc[:, \"WoodDeckSF\"].fillna(0)"
   ]
  },
  {
   "cell_type": "code",
   "execution_count": 25,
   "metadata": {
    "_cell_guid": "f9de2ccc-4a07-a8f2-75d8-5151ff653e86",
    "_uuid": "71c0b12995e53e3d652eae5d4536e8f65bbc38fc",
    "collapsed": true
   },
   "outputs": [],
   "source": [
    "# Some numerical features are actually really categories\n",
    "all_df = all_df.replace({\"MSSubClass\" : {20 : \"SC20\", 30 : \"SC30\", 40 : \"SC40\", 45 : \"SC45\", \n",
    "                                       50 : \"SC50\", 60 : \"SC60\", 70 : \"SC70\", 75 : \"SC75\", \n",
    "                                       80 : \"SC80\", 85 : \"SC85\", 90 : \"SC90\", 120 : \"SC120\", \n",
    "                                       150 : \"SC150\", 160 : \"SC160\", 180 : \"SC180\", 190 : \"SC190\"},\n",
    "                       \"MoSold\" : {1 : \"Jan\", 2 : \"Feb\", 3 : \"Mar\", 4 : \"Apr\", 5 : \"May\", 6 : \"Jun\",\n",
    "                                   7 : \"Jul\", 8 : \"Aug\", 9 : \"Sep\", 10 : \"Oct\", 11 : \"Nov\", 12 : \"Dec\"}\n",
    "                      })"
   ]
  },
  {
   "cell_type": "code",
   "execution_count": 26,
   "metadata": {
    "_cell_guid": "3c57fec5-4eb9-9130-cf96-54e00275a594",
    "_uuid": "93c6d1026a57b91238a5876dcc1bd658eab05d58",
    "collapsed": true
   },
   "outputs": [],
   "source": [
    "# Encode some categorical features as ordered numbers when there is information in the order\n",
    "all_df = all_df.replace({\"Alley\" : {\"Grvl\" : 1, \"Pave\" : 2},\n",
    "                       \"BsmtCond\" : {\"No\" : 0, \"Po\" : 1, \"Fa\" : 2, \"TA\" : 3, \"Gd\" : 4, \"Ex\" : 5},\n",
    "                       \"BsmtExposure\" : {\"No\" : 0, \"Mn\" : 1, \"Av\": 2, \"Gd\" : 3},\n",
    "                       \"BsmtFinType1\" : {\"No\" : 0, \"Unf\" : 1, \"LwQ\": 2, \"Rec\" : 3, \"BLQ\" : 4, \n",
    "                                         \"ALQ\" : 5, \"GLQ\" : 6},\n",
    "                       \"BsmtFinType2\" : {\"No\" : 0, \"Unf\" : 1, \"LwQ\": 2, \"Rec\" : 3, \"BLQ\" : 4, \n",
    "                                         \"ALQ\" : 5, \"GLQ\" : 6},\n",
    "                       \"BsmtQual\" : {\"No\" : 0, \"Po\" : 1, \"Fa\" : 2, \"TA\": 3, \"Gd\" : 4, \"Ex\" : 5},\n",
    "                       \"ExterCond\" : {\"Po\" : 1, \"Fa\" : 2, \"TA\": 3, \"Gd\": 4, \"Ex\" : 5},\n",
    "                       \"ExterQual\" : {\"Po\" : 1, \"Fa\" : 2, \"TA\": 3, \"Gd\": 4, \"Ex\" : 5},\n",
    "                       \"FireplaceQu\" : {\"No\" : 0, \"Po\" : 1, \"Fa\" : 2, \"TA\" : 3, \"Gd\" : 4, \"Ex\" : 5},\n",
    "                       \"Functional\" : {\"Sal\" : 1, \"Sev\" : 2, \"Maj2\" : 3, \"Maj1\" : 4, \"Mod\": 5, \n",
    "                                       \"Min2\" : 6, \"Min1\" : 7, \"Typ\" : 8},\n",
    "                       \"GarageCond\" : {\"No\" : 0, \"Po\" : 1, \"Fa\" : 2, \"TA\" : 3, \"Gd\" : 4, \"Ex\" : 5},\n",
    "                       \"GarageQual\" : {\"No\" : 0, \"Po\" : 1, \"Fa\" : 2, \"TA\" : 3, \"Gd\" : 4, \"Ex\" : 5},\n",
    "                       \"HeatingQC\" : {\"Po\" : 1, \"Fa\" : 2, \"TA\" : 3, \"Gd\" : 4, \"Ex\" : 5},\n",
    "                       \"KitchenQual\" : {\"Po\" : 1, \"Fa\" : 2, \"TA\" : 3, \"Gd\" : 4, \"Ex\" : 5},\n",
    "                       \"LandSlope\" : {\"Sev\" : 1, \"Mod\" : 2, \"Gtl\" : 3},\n",
    "                       \"LotShape\" : {\"IR3\" : 1, \"IR2\" : 2, \"IR1\" : 3, \"Reg\" : 4},\n",
    "                       \"PavedDrive\" : {\"N\" : 0, \"P\" : 1, \"Y\" : 2},\n",
    "                       \"PoolQC\" : {\"No\" : 0, \"Fa\" : 1, \"TA\" : 2, \"Gd\" : 3, \"Ex\" : 4},\n",
    "                       \"Street\" : {\"Grvl\" : 1, \"Pave\" : 2},\n",
    "                       \"Utilities\" : {\"ELO\" : 1, \"NoSeWa\" : 2, \"NoSewr\" : 3, \"AllPub\" : 4}}\n",
    "                     )"
   ]
  },
  {
   "cell_type": "markdown",
   "metadata": {
    "_cell_guid": "5fedb3e5-d6e0-efdd-d92a-8079377f82a9",
    "_uuid": "34586f5bc64be09eaf5fd5ebe6d951ecc9d41b32"
   },
   "source": [
    "Then we will create new features, in 3 ways : \n",
    "\n",
    " 1. Simplifications of existing features\n",
    " 2. Combinations of existing features\n",
    " 3. Polynomials on the top 10 existing features"
   ]
  },
  {
   "cell_type": "code",
   "execution_count": 27,
   "metadata": {
    "_cell_guid": "10327932-cac0-9310-1041-4572e72b44eb",
    "_uuid": "8f9c89090b4e879cf94cdff56bb07fc8feebd5cd",
    "collapsed": true
   },
   "outputs": [],
   "source": [
    "# Create new features\n",
    "# 1* Simplifications of existing features\n",
    "all_df[\"SimplOverallQual\"] = all_df.OverallQual.replace({1 : 1, 2 : 1, 3 : 1, # bad\n",
    "                                                       4 : 2, 5 : 2, 6 : 2, # average\n",
    "                                                       7 : 3, 8 : 3, 9 : 3, 10 : 3 # good\n",
    "                                                      })\n",
    "all_df[\"SimplOverallCond\"] = all_df.OverallCond.replace({1 : 1, 2 : 1, 3 : 1, # bad\n",
    "                                                       4 : 2, 5 : 2, 6 : 2, # average\n",
    "                                                       7 : 3, 8 : 3, 9 : 3, 10 : 3 # good\n",
    "                                                      })\n",
    "all_df[\"SimplPoolQC\"] = all_df.PoolQC.replace({1 : 1, 2 : 1, # average\n",
    "                                             3 : 2, 4 : 2 # good\n",
    "                                            })\n",
    "all_df[\"SimplGarageCond\"] = all_df.GarageCond.replace({1 : 1, # bad\n",
    "                                                     2 : 1, 3 : 1, # average\n",
    "                                                     4 : 2, 5 : 2 # good\n",
    "                                                    })\n",
    "all_df[\"SimplGarageQual\"] = all_df.GarageQual.replace({1 : 1, # bad\n",
    "                                                     2 : 1, 3 : 1, # average\n",
    "                                                     4 : 2, 5 : 2 # good\n",
    "                                                    })\n",
    "all_df[\"SimplFireplaceQu\"] = all_df.FireplaceQu.replace({1 : 1, # bad\n",
    "                                                       2 : 1, 3 : 1, # average\n",
    "                                                       4 : 2, 5 : 2 # good\n",
    "                                                      })\n",
    "all_df[\"SimplFireplaceQu\"] = all_df.FireplaceQu.replace({1 : 1, # bad\n",
    "                                                       2 : 1, 3 : 1, # average\n",
    "                                                       4 : 2, 5 : 2 # good\n",
    "                                                      })\n",
    "all_df[\"SimplFunctional\"] = all_df.Functional.replace({1 : 1, 2 : 1, # bad\n",
    "                                                     3 : 2, 4 : 2, # major\n",
    "                                                     5 : 3, 6 : 3, 7 : 3, # minor\n",
    "                                                     8 : 4 # typical\n",
    "                                                    })\n",
    "all_df[\"SimplKitchenQual\"] = all_df.KitchenQual.replace({1 : 1, # bad\n",
    "                                                       2 : 1, 3 : 1, # average\n",
    "                                                       4 : 2, 5 : 2 # good\n",
    "                                                      })\n",
    "all_df[\"SimplHeatingQC\"] = all_df.HeatingQC.replace({1 : 1, # bad\n",
    "                                                   2 : 1, 3 : 1, # average\n",
    "                                                   4 : 2, 5 : 2 # good\n",
    "                                                  })\n",
    "all_df[\"SimplBsmtFinType1\"] = all_df.BsmtFinType1.replace({1 : 1, # unfinished\n",
    "                                                         2 : 1, 3 : 1, # rec room\n",
    "                                                         4 : 2, 5 : 2, 6 : 2 # living quarters\n",
    "                                                        })\n",
    "all_df[\"SimplBsmtFinType2\"] = all_df.BsmtFinType2.replace({1 : 1, # unfinished\n",
    "                                                         2 : 1, 3 : 1, # rec room\n",
    "                                                         4 : 2, 5 : 2, 6 : 2 # living quarters\n",
    "                                                        })\n",
    "all_df[\"SimplBsmtCond\"] = all_df.BsmtCond.replace({1 : 1, # bad\n",
    "                                                 2 : 1, 3 : 1, # average\n",
    "                                                 4 : 2, 5 : 2 # good\n",
    "                                                })\n",
    "all_df[\"SimplBsmtQual\"] = all_df.BsmtQual.replace({1 : 1, # bad\n",
    "                                                 2 : 1, 3 : 1, # average\n",
    "                                                 4 : 2, 5 : 2 # good\n",
    "                                                })\n",
    "all_df[\"SimplExterCond\"] = all_df.ExterCond.replace({1 : 1, # bad\n",
    "                                                   2 : 1, 3 : 1, # average\n",
    "                                                   4 : 2, 5 : 2 # good\n",
    "                                                  })\n",
    "all_df[\"SimplExterQual\"] = all_df.ExterQual.replace({1 : 1, # bad\n",
    "                                                   2 : 1, 3 : 1, # average\n",
    "                                                   4 : 2, 5 : 2 # good\n",
    "                                                  })\n",
    "\n",
    "# 2* Combinations of existing features\n",
    "# Overall quality of the house\n",
    "all_df[\"OverallGrade\"] = all_df[\"OverallQual\"] * all_df[\"OverallCond\"]\n",
    "# Overall quality of the garage\n",
    "all_df[\"GarageGrade\"] = all_df[\"GarageQual\"] * all_df[\"GarageCond\"]\n",
    "# Overall quality of the exterior\n",
    "all_df[\"ExterGrade\"] = all_df[\"ExterQual\"] * all_df[\"ExterCond\"]\n",
    "# Overall kitchen score\n",
    "all_df[\"KitchenScore\"] = all_df[\"KitchenAbvGr\"] * all_df[\"KitchenQual\"]\n",
    "# Overall fireplace score\n",
    "all_df[\"FireplaceScore\"] = all_df[\"Fireplaces\"] * all_df[\"FireplaceQu\"]\n",
    "# Overall garage score\n",
    "all_df[\"GarageScore\"] = all_df[\"GarageArea\"] * all_df[\"GarageQual\"]\n",
    "# Overall pool score\n",
    "all_df[\"PoolScore\"] = all_df[\"PoolArea\"] * all_df[\"PoolQC\"]\n",
    "# Simplified overall quality of the house\n",
    "all_df[\"SimplOverallGrade\"] = all_df[\"SimplOverallQual\"] * all_df[\"SimplOverallCond\"]\n",
    "# Simplified overall quality of the exterior\n",
    "all_df[\"SimplExterGrade\"] = all_df[\"SimplExterQual\"] * all_df[\"SimplExterCond\"]\n",
    "# Simplified overall pool score\n",
    "all_df[\"SimplPoolScore\"] = all_df[\"PoolArea\"] * all_df[\"SimplPoolQC\"]\n",
    "# Simplified overall garage score\n",
    "all_df[\"SimplGarageScore\"] = all_df[\"GarageArea\"] * all_df[\"SimplGarageQual\"]\n",
    "# Simplified overall fireplace score\n",
    "all_df[\"SimplFireplaceScore\"] = all_df[\"Fireplaces\"] * all_df[\"SimplFireplaceQu\"]\n",
    "# Simplified overall kitchen score\n",
    "all_df[\"SimplKitchenScore\"] = all_df[\"KitchenAbvGr\"] * all_df[\"SimplKitchenQual\"]\n",
    "# Total number of bathrooms\n",
    "all_df[\"TotalBath\"] = all_df[\"BsmtFullBath\"] + (0.5 * all_df[\"BsmtHalfBath\"]) + \\\n",
    "all_df[\"FullBath\"] + (0.5 * all_df[\"HalfBath\"])\n",
    "# Total SF for house (incl. basement)\n",
    "all_df[\"AllSF\"] = all_df[\"GrLivArea\"] + all_df[\"TotalBsmtSF\"]\n",
    "# Total SF for 1st + 2nd floors\n",
    "all_df[\"AllFlrsSF\"] = all_df[\"1stFlrSF\"] + all_df[\"2ndFlrSF\"]\n",
    "# Total SF for porch\n",
    "all_df[\"AllPorchSF\"] = all_df[\"OpenPorchSF\"] + all_df[\"EnclosedPorch\"] + \\\n",
    "all_df[\"3SsnPorch\"] + all_df[\"ScreenPorch\"]\n",
    "# Has masonry veneer or not\n",
    "all_df[\"HasMasVnr\"] = all_df.MasVnrType.replace({\"BrkCmn\" : 1, \"BrkFace\" : 1, \"CBlock\" : 1, \n",
    "                                               \"Stone\" : 1, \"None\" : 0})\n",
    "# House completed before sale or not\n",
    "all_df[\"BoughtOffPlan\"] = all_df.SaleCondition.replace({\"Abnorml\" : 0, \"Alloca\" : 0, \"AdjLand\" : 0, \n",
    "                                                      \"Family\" : 0, \"Normal\" : 0, \"Partial\" : 1})"
   ]
  },
  {
   "cell_type": "code",
   "execution_count": 28,
   "metadata": {
    "_cell_guid": "a345817d-8b0c-7467-7524-16a4cbb02794",
    "_uuid": "8eddfd00c90c9e226fbbe5d712cff38d85203ded"
   },
   "outputs": [
    {
     "name": "stdout",
     "output_type": "stream",
     "text": [
      "Find most important features relative to target\n",
      "SalePrice          1.000\n",
      "OverallQual        0.819\n",
      "AllSF              0.817\n",
      "AllFlrsSF          0.729\n",
      "GrLivArea          0.719\n",
      "SimplOverallQual   0.708\n",
      "ExterQual          0.681\n",
      "GarageCars         0.680\n",
      "TotalBath          0.673\n",
      "KitchenQual        0.667\n",
      "GarageScore        0.657\n",
      "Name: SalePrice, dtype: float64\n"
     ]
    }
   ],
   "source": [
    "# Find most important features relative to target\n",
    "train = all_df.iloc[:1456,]\n",
    "print(\"Find most important features relative to target\")\n",
    "corr = train.corr()\n",
    "corr.sort_values([\"SalePrice\"], ascending = False, inplace = True)\n",
    "print(corr.SalePrice[:11])"
   ]
  },
  {
   "cell_type": "code",
   "execution_count": 29,
   "metadata": {
    "_cell_guid": "bf2a8386-cb11-969a-d5cb-a2bb4a7094fd",
    "_uuid": "4e01df49c67594e5ae91788160a2ba46103bcd87",
    "collapsed": true
   },
   "outputs": [],
   "source": [
    "# Create new features\n",
    "# 3* Polynomials on the top 10 existing features\n",
    "all_df[\"OverallQual-s2\"] = all_df[\"OverallQual\"] ** 2\n",
    "all_df[\"OverallQual-s3\"] = all_df[\"OverallQual\"] ** 3\n",
    "all_df[\"OverallQual-Sq\"] = np.sqrt(all_df[\"OverallQual\"])\n",
    "all_df[\"AllSF-2\"] = all_df[\"AllSF\"] ** 2\n",
    "all_df[\"AllSF-3\"] = all_df[\"AllSF\"] ** 3\n",
    "all_df[\"AllSF-Sq\"] = np.sqrt(all_df[\"AllSF\"])\n",
    "all_df[\"AllFlrsSF-2\"] = all_df[\"AllFlrsSF\"] ** 2\n",
    "all_df[\"AllFlrsSF-3\"] = all_df[\"AllFlrsSF\"] ** 3\n",
    "all_df[\"AllFlrsSF-Sq\"] = np.sqrt(all_df[\"AllFlrsSF\"])\n",
    "all_df[\"GrLivArea-2\"] = all_df[\"GrLivArea\"] ** 2\n",
    "all_df[\"GrLivArea-3\"] = all_df[\"GrLivArea\"] ** 3\n",
    "all_df[\"GrLivArea-Sq\"] = np.sqrt(all_df[\"GrLivArea\"])\n",
    "all_df[\"SimplOverallQual-s2\"] = all_df[\"SimplOverallQual\"] ** 2\n",
    "all_df[\"SimplOverallQual-s3\"] = all_df[\"SimplOverallQual\"] ** 3\n",
    "all_df[\"SimplOverallQual-Sq\"] = np.sqrt(all_df[\"SimplOverallQual\"])\n",
    "all_df[\"ExterQual-2\"] = all_df[\"ExterQual\"] ** 2\n",
    "all_df[\"ExterQual-3\"] = all_df[\"ExterQual\"] ** 3\n",
    "all_df[\"ExterQual-Sq\"] = np.sqrt(all_df[\"ExterQual\"])\n",
    "all_df[\"GarageCars-2\"] = all_df[\"GarageCars\"] ** 2\n",
    "all_df[\"GarageCars-3\"] = all_df[\"GarageCars\"] ** 3\n",
    "all_df[\"GarageCars-Sq\"] = np.sqrt(all_df[\"GarageCars\"])\n",
    "all_df[\"TotalBath-2\"] = all_df[\"TotalBath\"] ** 2\n",
    "all_df[\"TotalBath-3\"] = all_df[\"TotalBath\"] ** 3\n",
    "all_df[\"TotalBath-Sq\"] = np.sqrt(all_df[\"TotalBath\"])\n",
    "all_df[\"KitchenQual-2\"] = all_df[\"KitchenQual\"] ** 2\n",
    "all_df[\"KitchenQual-3\"] = all_df[\"KitchenQual\"] ** 3\n",
    "all_df[\"KitchenQual-Sq\"] = np.sqrt(all_df[\"KitchenQual\"])\n",
    "all_df[\"GarageScore-2\"] = all_df[\"GarageScore\"] ** 2\n",
    "all_df[\"GarageScore-3\"] = all_df[\"GarageScore\"] ** 3\n",
    "all_df[\"GarageScore-Sq\"] = np.sqrt(all_df[\"GarageScore\"])"
   ]
  },
  {
   "cell_type": "code",
   "execution_count": 30,
   "metadata": {
    "_cell_guid": "9a8ce5ba-12b9-61d6-6ae8-d3ff838f082e",
    "_uuid": "4cc0a31377aef2d617a333ce91452e828a6c23f0"
   },
   "outputs": [
    {
     "name": "stdout",
     "output_type": "stream",
     "text": [
      "Numerical features : 117\n",
      "Categorical features : 26\n"
     ]
    }
   ],
   "source": [
    "# Differentiate numerical features (minus the target) and categorical features\n",
    "categorical_features = all_df.select_dtypes(include = [\"object\"]).columns\n",
    "numerical_features = all_df.select_dtypes(exclude = [\"object\"]).columns\n",
    "numerical_features = numerical_features.drop(\"SalePrice\")\n",
    "print(\"Numerical features : \" + str(len(numerical_features)))\n",
    "print(\"Categorical features : \" + str(len(categorical_features)))\n",
    "all_df_num = all_df[numerical_features]\n",
    "all_df_cat = all_df[categorical_features]"
   ]
  },
  {
   "cell_type": "code",
   "execution_count": 31,
   "metadata": {
    "_cell_guid": "7fed0c33-faa1-e455-c834-7ec12f6d33e5",
    "_uuid": "6624099f536383f581380e38875c7448bc192b02"
   },
   "outputs": [
    {
     "name": "stdout",
     "output_type": "stream",
     "text": [
      "NAs for numerical features in train : 166\n",
      "Remaining NAs for numerical features in train : 0\n"
     ]
    }
   ],
   "source": [
    "# Handle remaining missing values for numerical features by using median as replacement\n",
    "print(\"NAs for numerical features in train : \" + str(all_df_num.isnull().values.sum()))\n",
    "all_df_num = all_df_num.fillna(all_df_num.median())\n",
    "print(\"Remaining NAs for numerical features in train : \" + str(all_df_num.isnull().values.sum()))"
   ]
  },
  {
   "cell_type": "code",
   "execution_count": 32,
   "metadata": {
    "_cell_guid": "571b9524-6559-d088-1917-9f290a662af1",
    "_uuid": "3e46479c6d55e1759ee6d641843597ea98e88a82"
   },
   "outputs": [
    {
     "name": "stdout",
     "output_type": "stream",
     "text": [
      "86 skewed numerical features to log transform\n"
     ]
    }
   ],
   "source": [
    "# Log transform of the skewed numerical features to lessen impact of outliers\n",
    "# Inspired by Alexandru Papiu's script : https://www.kaggle.com/apapiu/house-prices-advanced-regression-techniques/regularized-linear-models\n",
    "# As a general rule of thumb, a skewness with an absolute value > 0.5 is considered at least moderately skewed\n",
    "skewness = all_df_num.apply(lambda x: skew(x))\n",
    "skewness = skewness[abs(skewness) > 0.5]\n",
    "\n",
    "from scipy.special import boxcox1p\n",
    "print(str(skewness.shape[0]) + \" skewed numerical features to log transform\")\n",
    "skewed_features = skewness.index\n",
    "all_df_num[skewed_features] = np.log1p(all_df_num[skewed_features])\n",
    "#all_df_num[skewed_features] = boxcox1p(all_df_num[skewed_features], .15)"
   ]
  },
  {
   "cell_type": "code",
   "execution_count": 33,
   "metadata": {
    "_cell_guid": "93029443-cbb3-e2ee-9c4a-a61e22ef1a15",
    "_uuid": "cf4567671304a63d4a8d3bf9791944bd6a36d1a5"
   },
   "outputs": [
    {
     "name": "stdout",
     "output_type": "stream",
     "text": [
      "NAs for categorical features in train : 8\n",
      "Remaining NAs for categorical features in train : 0\n"
     ]
    }
   ],
   "source": [
    "# Create dummy features for categorical values via one-hot encoding\n",
    "print(\"NAs for categorical features in train : \" + str(all_df_cat.isnull().values.sum()))\n",
    "all_df_cat = pd.get_dummies(all_df_cat)\n",
    "print(\"Remaining NAs for categorical features in train : \" + str(all_df_cat.isnull().values.sum()))"
   ]
  },
  {
   "cell_type": "code",
   "execution_count": 35,
   "metadata": {},
   "outputs": [
    {
     "name": "stderr",
     "output_type": "stream",
     "text": [
      "C:\\Users\\khyeh\\Anaconda3\\lib\\site-packages\\pandas\\core\\indexing.py:517: SettingWithCopyWarning: \n",
      "A value is trying to be set on a copy of a slice from a DataFrame.\n",
      "Try using .loc[row_indexer,col_indexer] = value instead\n",
      "\n",
      "See the caveats in the documentation: http://pandas.pydata.org/pandas-docs/stable/indexing.html#indexing-view-versus-copy\n",
      "  self.obj[item] = s\n",
      "C:\\Users\\khyeh\\Anaconda3\\lib\\site-packages\\ipykernel\\__main__.py:11: SettingWithCopyWarning: \n",
      "A value is trying to be set on a copy of a slice from a DataFrame.\n",
      "Try using .loc[row_indexer,col_indexer] = value instead\n",
      "\n",
      "See the caveats in the documentation: http://pandas.pydata.org/pandas-docs/stable/indexing.html#indexing-view-versus-copy\n",
      "C:\\Users\\khyeh\\Anaconda3\\lib\\site-packages\\ipykernel\\__main__.py:12: SettingWithCopyWarning: \n",
      "A value is trying to be set on a copy of a slice from a DataFrame.\n",
      "Try using .loc[row_indexer,col_indexer] = value instead\n",
      "\n",
      "See the caveats in the documentation: http://pandas.pydata.org/pandas-docs/stable/indexing.html#indexing-view-versus-copy\n"
     ]
    },
    {
     "name": "stdout",
     "output_type": "stream",
     "text": [
      "train:  (1456, 321)\n",
      "test:  (1459, 321)\n"
     ]
    }
   ],
   "source": [
    "all_df = pd.concat([all_df_num, all_df_cat], axis = 1)\n",
    "scaler = StandardScaler() #RobustScaler()\n",
    "#scaler = QuantileTransformer(output_distribution = 'normal')\n",
    "\n",
    "train = all_df.iloc[:1456]\n",
    "test = all_df.iloc[1456:]\n",
    "\n",
    "train.loc[:, numerical_features] = scaler.fit_transform(train[numerical_features])\n",
    "test.loc[:, numerical_features] = scaler.transform(test[numerical_features])\n",
    "\n",
    "train['SalePrice'] = y\n",
    "test['SalePrice'] = np.zeros((test.shape[0],))\n",
    "\n",
    "train.to_csv('house prediction data\\other_preprocessed_train.csv', encoding='utf-8', index=False)\n",
    "test.to_csv('house prediction data\\other_preprocessed_test.csv', encoding='utf-8', index=False)\n",
    "\n",
    "print('train: ', train.shape)\n",
    "print('test: ', test.shape)"
   ]
  },
  {
   "cell_type": "markdown",
   "metadata": {},
   "source": [
    "Standardization cannot be done before  the partitioning, as we don't want to fit the scaler on some observations that will later be used in the test set."
   ]
  },
  {
   "cell_type": "markdown",
   "metadata": {},
   "source": [
    "## Use PCA & FA to reduce dimensions, then we have 3 set of data to train with: PCA\\FA dimension-reduced +  Original Data"
   ]
  },
  {
   "cell_type": "markdown",
   "metadata": {},
   "source": [
    "> use the example from: http://scikit-learn.org/stable/auto_examples/decomposition/plot_pca_vs_fa_model_selection.html#sphx-glr-auto-examples-decomposition-plot-pca-vs-fa-model-selection-py"
   ]
  },
  {
   "cell_type": "code",
   "execution_count": 18,
   "metadata": {
    "collapsed": true
   },
   "outputs": [],
   "source": [
    "features = list(train.columns)\n",
    "\n",
    "target = 'SalePrice'\n",
    "features.remove(target)\n",
    "\n",
    "train_x = train[features]\n",
    "train_y = train[target]\n",
    "test_x = test[features]\n",
    "\n",
    "train_num = train_x.shape[0]\n",
    "test_num = test_x.shape[1]\n",
    "\n",
    "all_x = pd.concat([train_x, test_x])"
   ]
  },
  {
   "cell_type": "code",
   "execution_count": 19,
   "metadata": {
    "collapsed": true
   },
   "outputs": [],
   "source": [
    "from sklearn.decomposition import PCA, FactorAnalysis\n",
    "from sklearn.covariance import ShrunkCovariance, LedoitWolf\n",
    "from sklearn.model_selection import cross_val_score\n",
    "from sklearn.model_selection import GridSearchCV"
   ]
  },
  {
   "cell_type": "code",
   "execution_count": 25,
   "metadata": {},
   "outputs": [
    {
     "name": "stdout",
     "output_type": "stream",
     "text": [
      "320\n"
     ]
    }
   ],
   "source": [
    "n_features = len(features)\n",
    "print(n_features)\n",
    "n_components = np.arange(0, n_features, 10)  # options for n_components\n",
    "#n_components = [300]\n",
    "#print(n_features)"
   ]
  },
  {
   "cell_type": "code",
   "execution_count": 27,
   "metadata": {
    "collapsed": true
   },
   "outputs": [],
   "source": [
    "def compute_scores(X):\n",
    "    pca = PCA(svd_solver='full')\n",
    "    fa = FactorAnalysis()\n",
    "\n",
    "    pca_scores, fa_scores = [], []\n",
    "    for i, n in enumerate(n_components):\n",
    "        print('\\rDealing with n_component = ', n, \"\\t\", (len(n_components)-i) / len(n_components) * 100.0 ,\"% left      \", end=\"\")\n",
    "        pca.n_components = n\n",
    "        fa.n_components = n\n",
    "        pca_scores.append(np.mean(cross_val_score(pca, X)))\n",
    "        fa_scores.append(np.mean(cross_val_score(fa, X)))\n",
    "\n",
    "    return pca_scores, fa_scores\n",
    "\n",
    "\n",
    "def shrunk_cov_score(X):\n",
    "    shrinkages = np.logspace(-2, 0, 30)\n",
    "    cv = GridSearchCV(ShrunkCovariance(), {'shrinkage': shrinkages})\n",
    "    return np.mean(cross_val_score(cv.fit(X).best_estimator_, X))\n",
    "\n",
    "\n",
    "def lw_score(X):\n",
    "    return np.mean(cross_val_score(LedoitWolf(), X))"
   ]
  },
  {
   "cell_type": "code",
   "execution_count": 28,
   "metadata": {},
   "outputs": [
    {
     "name": "stdout",
     "output_type": "stream",
     "text": [
      "Dealing with n_component =  310 \t 3.125 % left       \n",
      "best n_components by PCA CV = 200\n",
      "best n_components by FactorAnalysis CV = 300\n"
     ]
    },
    {
     "data": {
      "image/png": "[encoded data removed]",
      "text/plain": [
       "<matplotlib.figure.Figure at 0xc5952e8>"
      ]
     },
     "metadata": {},
     "output_type": "display_data"
    }
   ],
   "source": [
    "pca_scores, fa_scores = compute_scores(all_x)\n",
    "n_components_pca = n_components[np.argmax(pca_scores)]\n",
    "n_components_fa = n_components[np.argmax(fa_scores)]\n",
    "\n",
    "#pca = PCA(svd_solver='full', n_components='mle')\n",
    "#pca.fit(all_x)\n",
    "#n_components_pca_mle = pca.n_components_\n",
    "\n",
    "print(\"\\nbest n_components by PCA CV = %d\" % n_components_pca)\n",
    "print(\"best n_components by FactorAnalysis CV = %d\" % n_components_fa)\n",
    "#print(\"best n_components by PCA MLE = %d\" % n_components_pca_mle)\n",
    "\n",
    "plt.figure()\n",
    "plt.plot(n_components, pca_scores, 'b', label='PCA scores')\n",
    "plt.plot(n_components, fa_scores, 'r', label='FA scores')\n",
    "#plt.axvline(rank, color='g', label='TRUTH: %d' % rank, linestyle='-')\n",
    "plt.axvline(n_components_pca, color='b',\n",
    "            label='PCA CV: %d' % n_components_pca, linestyle='--')\n",
    "plt.axvline(n_components_fa, color='r',\n",
    "            label='FactorAnalysis CV: %d' % n_components_fa,\n",
    "            linestyle='--')\n",
    "#plt.axvline(n_components_pca_mle, color='k',\n",
    "#            label='PCA MLE: %d' % n_components_pca_mle, linestyle='--')\n",
    "\n",
    "# compare with other covariance estimators\n",
    "plt.axhline(shrunk_cov_score(all_x), color='violet',\n",
    "            label='Shrunk Covariance MLE', linestyle='-.')\n",
    "#plt.axhline(lw_score(all_x), color='orange',\n",
    "#            label='LedoitWolf MLE' % n_components_pca_mle, linestyle='-.')\n",
    "\n",
    "plt.xlabel('nb of components')\n",
    "plt.ylabel('CV scores')\n",
    "plt.legend(loc='lower right')\n",
    "plt.title('PCA + FA for features to keep')\n",
    "\n",
    "plt.show()"
   ]
  }
 ],
 "metadata": {
  "_change_revision": 0,
  "_is_fork": false,
  "kernelspec": {
   "display_name": "Python [conda root]",
   "language": "python",
   "name": "conda-root-py"
  },
  "language_info": {
   "codemirror_mode": {
    "name": "ipython",
    "version": 3
   },
   "file_extension": ".py",
   "mimetype": "text/x-python",
   "name": "python",
   "nbconvert_exporter": "python",
   "pygments_lexer": "ipython3",
   "version": "3.6.2"
  }
 },
 "nbformat": 4,
 "nbformat_minor": 1
}
